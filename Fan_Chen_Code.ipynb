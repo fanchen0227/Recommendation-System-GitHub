{
 "cells": [
  {
   "cell_type": "markdown",
   "metadata": {},
   "source": [
    "# Recommendation of Personalized Projects to Users in GitHub"
   ]
  },
  {
   "cell_type": "markdown",
   "metadata": {},
   "source": [
    "            Fan Chen      1004047514        fanpeter.chen@mail.utoronto.ca"
   ]
  },
  {
   "cell_type": "markdown",
   "metadata": {},
   "source": [
    "# 1. Goal of Project"
   ]
  },
  {
   "cell_type": "markdown",
   "metadata": {},
   "source": [
    "Nowaday, personalized recommendation is very popular in retails and services. For open source community, it is also interesting to recommend appropriate projects to the users to activate their interest and improve their experience in the community. The purpose of my research is to build a recommendation system in GitHub to match projects and users based on historic behaviors data."
   ]
  },
  {
   "cell_type": "markdown",
   "metadata": {},
   "source": [
    "## 1.1 Paper content"
   ]
  },
  {
   "cell_type": "markdown",
   "metadata": {},
   "source": [
    "The Paper I am going to reproduce is \"Machine learning-based product recommendation using Apache Spark,\" 2017, IEEE SmartWorld.\n",
    "\n",
    "In Lin’s study, they developed a product recommender system using Apache Spark and its ALS algorithm. \n",
    "\n",
    "#### What I reproduce from the paper\n",
    "\n",
    "Lin applied the Alternating Least Squares (ALS) matrix factorization method, which is an advanced version of collaborative filtering method. They utilized Amazon book reviews and product review metadata to train the recommendation model and used root mean squared error (RMSE) to evaluate the model performance. For this part, I am going to reproduce it. I will apply the mathodology of data preprocessing(inculding rating, join, merge the item information) and algorithm of ALS method of pyspark in my recommendation system. Also, I will use the same evaluation matrix(RMSE) of this paper, and compare the precision and recall in my work. \n",
    "\n",
    "#### What I won't reproduce from the paper\n",
    "\n",
    "In lin's work, she also introduce the utilization of AWS and compare the running time on different spark instances. The result showes the number of memory cores have a obvious affect on the running time. I won't reproduce this part because my pyspark environment is my local computer, but this part will be very helpful if further scalable plan of recommendation system is going to be implemented in the future. "
   ]
  },
  {
   "cell_type": "markdown",
   "metadata": {},
   "source": [
    "## 1.1 Schedule"
   ]
  },
  {
   "cell_type": "markdown",
   "metadata": {},
   "source": [
    "### 1.1.1 Literature review (One week  6 hours)\n",
    "#### Plan:\n",
    "In this step, the most important is to collect good qualities of paper, which allows me to reproduce the analytics methodology in github dataset based on pyspark platform. I am going to collect 20 papers, from which I will use pick up 5 papers to read carefully. \n",
    "\n",
    "#### Actuality:\n",
    "I collected 20 papers, covering from github analytics and state of the art recommendation systems papers from google scholars. It took one and a half week due to topic change from social network analysis to recommendation system. Finally, I picked this paper to reproduce.\n"
   ]
  },
  {
   "cell_type": "markdown",
   "metadata": {},
   "source": [
    "### 1.1.2  Data collections (One week  5 hours)\n",
    "\n",
    "#### Plan\n",
    "In this step, I am going to collect the data from Github API. In Github API, the data are very diverse and I can collect both the dataset of repositiries and users as a good feature in my rencommendation system. I am going to collect 40,000 repositories and then collect users information based on that.\n",
    "\n",
    "#### Acutality\n",
    "The result showes, I collected more than 60,000 repositories and it take more than one and half week due to the rate limitation of Github API. "
   ]
  },
  {
   "cell_type": "markdown",
   "metadata": {},
   "source": [
    "### 1.1.3  Data preprocessing (One week  5 hours)\n",
    "\n",
    "#### Plan\n",
    "In this step, I should clean and preselect the data based on the popularity of repositories and the acitivities of the users. To make sure the recomendation system can make a correct prediction, cold start problem need to be avoid during the preselection. Then we need to generate the rating score for RS based on the activities. \n",
    "\n",
    "#### Acutality\n",
    "I did cleaning and preselection after data exploration analysis. It's very helpful to improve the peformance of the model. Also, after explode the activities list and generated rating score, I found the rating scores are very unbalanced. Therefore, undersampling is necessary to implement.\n"
   ]
  },
  {
   "cell_type": "markdown",
   "metadata": {},
   "source": [
    "### 1.1.4 Modelling and Evaluation(One week  4 hours)\n",
    "\n",
    "#### Plan\n",
    "In this step, I will build ALS recommendation system model by pyspark.ml. Then I will do hyper-perameter tunings after I have the baseline model. Also, code language of users and repositories are important in recommendation system. The prediction will be further adjusted by the feature of language .\n",
    "#### Acutality\n",
    "In the beginning, I tried to train the model by fake data(MovieLen) to make sure the solution is doable in pyspark frame. Then I further put part of my github data into the model. RMSE is 0.4. The result seems feasible. Hyper-paramter tunings will be further implemented in this weekend.\n"
   ]
  },
  {
   "cell_type": "markdown",
   "metadata": {},
   "source": [
    "# 2. Data Collection  "
   ]
  },
  {
   "cell_type": "markdown",
   "metadata": {},
   "source": [
    "We collected data from GitHub API. My data for recommendation system should contain the information of users and repos. I found the repos have a list of contributors, stargazers, subscribers and onwer. Through these list, we can know the relationship between repos and users. From I decided to firstly scrap the data of repos. Then based on the user lists of repo, we can expand the list to generate the expected database.\n",
    "\n",
    "There are only 1500000 Repos that were modified since 2018 and have > 1 fork. We don't need to such a large amount of data. So we focus on the repos that were modified since 2019 and have >1 fork. We found the repo's pushing hours are concentrated from 7am to 23 pm. So we random search the repos whose latest pushing data is after 2019 and betwwen 7 am to 23 pm.  \n",
    "\n",
    "It took us one week to collect the data because of the limitation of Github API. The data include the information of 204637 users and 42024 repos. "
   ]
  },
  {
   "cell_type": "code",
   "execution_count": 87,
   "metadata": {
    "collapsed": true
   },
   "outputs": [],
   "source": [
    "from github import Github, GithubException\n",
    "import numpy as np\n",
    "import pandas as pd\n",
    "from pyspark.sql import *\n",
    "import pyspark.sql.functions as F\n",
    "import  datetime\n",
    "import io,json\n",
    "import datetime\n",
    "import random\n",
    "%matplotlib inline\n",
    "import findspark\n",
    "import pyspark\n",
    "# sc = pyspark.SparkContext(appName=\"myAppName\")\n",
    "# spark = pyspark.sql.SQLContext(sc)"
   ]
  },
  {
   "cell_type": "markdown",
   "metadata": {},
   "source": [
    "## Function 1: Peter's sleep code "
   ]
  },
  {
   "cell_type": "code",
   "execution_count": 1,
   "metadata": {
    "collapsed": true
   },
   "outputs": [],
   "source": [
    "# delay function to solve the rate limitation of github API.\n",
    "import datetime\n",
    "import sched, time\n",
    "s = sched.scheduler(time.time, time.sleep)\n",
    "def print_time(a='default'):\n",
    "    print(\"Restart to collect now\")\n",
    "def print_some_times():\n",
    "    b=time.time()\n",
    "    print(\"Exceeded exception limited. Will restart in one hour\")\n",
    "    s.enter(1800, 1, print_time)\n",
    "    s.run()"
   ]
  },
  {
   "cell_type": "code",
   "execution_count": 2,
   "metadata": {
    "collapsed": true
   },
   "outputs": [],
   "source": [
    "#Log in with username and password\n",
    "g = Github(input(\"user\"),input(\"password\"))\n",
    "#Select the repositories based on the last updated date\n",
    "repos = g.search_repositories(query = \"pushed:>2019-01-01T00:00:00+00:00 forks:>=1\",sort=\"updated\",order=\"asc\")"
   ]
  },
  {
   "cell_type": "code",
   "execution_count": 3,
   "metadata": {
    "collapsed": true
   },
   "outputs": [],
   "source": [
    "#Loop over the repo in repos\n",
    "#Convert dictionary to JSON file; store it as \"repo.json\"\n",
    "start_time = datetime.datetime.now()\n",
    "with io.open('user_fan'+str(random.randint(1,20000))+'.json','w') as outfile:\n",
    "    #Start the 10 iterations with 1000 repos pulled in each iteration\n",
    "    for iteration in range(1):\n",
    "        count_users = 0\n",
    "        print(\"Iteration\" + str(iteration+1) + \":\")\n",
    "        #While the repo does not reach 1000\n",
    "        while(count_users<len(contributor_list)):\n",
    "\n",
    "            if count_users % 1000 == 0:\n",
    "                print(\"users \" + str(count_users) + \" for iteration \" + str(iteration+1) + \":\")\n",
    "            try:\n",
    "                user = g.get_user(contributor_list.iloc[count_users,0])\n",
    "                #Keep track of number of repos\n",
    "                #Iterate through each user in contributor_list\n",
    "                count_users = count_users+1\n",
    "\n",
    "\n",
    "            #Retireve important features for each user\n",
    "            #Create a dictionary to store all the feature values\n",
    "                dic = {}\n",
    "                dic[\"login\"] = user.login\n",
    "                dic[\"id\"] = user.id\n",
    "                dic[\"repos_url\"] = user.repos_url\n",
    "                dic[\"created_at\"] = user.created_at\n",
    "                dic[\"updated_at\"] = user.updated_at\n",
    "                dic[\"followers\"] = user.followers\n",
    "                dic[\"following\"] = user.following\n",
    "                dic[\"public_repos\"] = user.public_repos\n",
    "                dic[\"public_gists\"] = user.public_gists\n",
    "                dic[\"type\"] = user.type\n",
    "\n",
    "                #Write the instance into JSON file\n",
    "                outfile.write(json.dumps(dic, default = myconverter))\n",
    "                outfile.write('\\n')    \n",
    "            except GithubException as e:\n",
    "                if(\"API rate limit\" in e.data[\"message\"]):\n",
    "                    print(e)\n",
    "                    print_some_times()\n",
    "                pass\n",
    "print(datetime.datetime.now() - start_time)"
   ]
  },
  {
   "cell_type": "markdown",
   "metadata": {},
   "source": [
    "We collected data from GitHub API. It took us one week to collect the data because of the limitation of Github API. The data include the information of 204637 users and 42024 repos. "
   ]
  },
  {
   "cell_type": "code",
   "execution_count": 88,
   "metadata": {
    "collapsed": true
   },
   "outputs": [],
   "source": [
    "import findspark\n",
    "import pyspark\n",
    "# sc = pyspark.SparkContext(appName=\"myAppName\")\n",
    "# spark = pyspark.sql.SQLContext(sc)\n",
    "df1 = spark.read.format(\"parquet\").option(\"header\", \"true\").load(\"all_users/*.parquet\")\n",
    "df2 = spark.read.format(\"parquet\").option(\"header\", \"true\").load(\"all_repos/*.parquet\")\n",
    "df1.createOrReplaceTempView(\"users\")\n",
    "df2.createOrReplaceTempView(\"repos\")"
   ]
  },
  {
   "cell_type": "code",
   "execution_count": 55,
   "metadata": {},
   "outputs": [
    {
     "name": "stdout",
     "output_type": "stream",
     "text": [
      "root\n",
      " |-- created_at: string (nullable = true)\n",
      " |-- followers: long (nullable = true)\n",
      " |-- following: long (nullable = true)\n",
      " |-- id: long (nullable = true)\n",
      " |-- login: string (nullable = true)\n",
      " |-- public_gists: long (nullable = true)\n",
      " |-- public_repos: long (nullable = true)\n",
      " |-- repos_url: string (nullable = true)\n",
      " |-- type: string (nullable = true)\n",
      " |-- updated_at: string (nullable = true)\n",
      "\n"
     ]
    }
   ],
   "source": [
    "df1.printSchema()"
   ]
  },
  {
   "cell_type": "code",
   "execution_count": 56,
   "metadata": {},
   "outputs": [
    {
     "name": "stdout",
     "output_type": "stream",
     "text": [
      "root\n",
      " |-- repo_id: long (nullable = true)\n",
      " |-- repo_name: string (nullable = true)\n",
      " |-- description: string (nullable = true)\n",
      " |-- create_date: timestamp (nullable = true)\n",
      " |-- last_pushed_at: timestamp (nullable = true)\n",
      " |-- contributor_list: array (nullable = true)\n",
      " |    |-- element: string (containsNull = true)\n",
      " |-- comments_count: integer (nullable = true)\n",
      " |-- commits_count: integer (nullable = true)\n",
      " |-- forks_count: integer (nullable = true)\n",
      " |-- size: integer (nullable = true)\n",
      " |-- open_issues: integer (nullable = true)\n",
      " |-- watchers_count: integer (nullable = true)\n",
      " |-- stars: integer (nullable = true)\n",
      " |-- network_count: integer (nullable = true)\n",
      " |-- languages: array (nullable = true)\n",
      " |    |-- element: string (containsNull = true)\n",
      " |-- has_wiki: boolean (nullable = true)\n",
      " |-- has_projects: boolean (nullable = true)\n",
      " |-- has_issues: boolean (nullable = true)\n",
      " |-- has_downloads: boolean (nullable = true)\n",
      "\n"
     ]
    }
   ],
   "source": [
    "df2.printSchema()\n",
    "# Data of Repos"
   ]
  },
  {
   "cell_type": "markdown",
   "metadata": {},
   "source": [
    "From the github behaviors, we can know there are four levels of interest the users have in repos: Create, contribute, subscribe and star. \"Create\" means the user own the repo, which showes the highest level of interest. \"Contribute\" means the user contribute to the repo and belongs to one part of the repo. \"Subscribe\" means the the user bookmark the the repo and will get the notification of issues and updation. \"star\" means the user bookmark the repo but won't receive the notification. So we assign different points to the the levels: Create - 4, Contribute - 3, Subscribe - 2, Star - 1, none - 0. \n"
   ]
  },
  {
   "cell_type": "markdown",
   "metadata": {},
   "source": [
    "#### code to get additional data:"
   ]
  },
  {
   "cell_type": "code",
   "execution_count": null,
   "metadata": {
    "collapsed": true
   },
   "outputs": [],
   "source": [
    "owner = repo.owner.login\n",
    "stargazers = repo.get_stargazers()\n",
    "subscribers = repo.get_subscribers()"
   ]
  },
  {
   "cell_type": "markdown",
   "metadata": {},
   "source": [
    "## 3. Data Preprocessing & Data Explorative Analysis"
   ]
  },
  {
   "cell_type": "markdown",
   "metadata": {},
   "source": [
    "In the papers, the author uses the dataset of MovieLens. It's a clean and formatted table and this is what we expect to get from Github dataset. "
   ]
  },
  {
   "cell_type": "code",
   "execution_count": 32,
   "metadata": {},
   "outputs": [
    {
     "name": "stdout",
     "output_type": "stream",
     "text": [
      "+------+-------+------+---------+\n",
      "|userId|movieId|rating|timestamp|\n",
      "+------+-------+------+---------+\n",
      "|     1|      1|   4.0|964982703|\n",
      "|     1|      3|   4.0|964981247|\n",
      "+------+-------+------+---------+\n",
      "only showing top 2 rows\n",
      "\n"
     ]
    }
   ],
   "source": [
    "df_sample = spark.read.format(\"csv\").option(\"header\", \"true\").load(\"ml-latest-small/ratings.csv\")\n",
    "df_sample.show(2)"
   ]
  },
  {
   "cell_type": "code",
   "execution_count": 11,
   "metadata": {},
   "outputs": [
    {
     "name": "stdout",
     "output_type": "stream",
     "text": [
      "root\n",
      " |-- userId: string (nullable = true)\n",
      " |-- movieId: string (nullable = true)\n",
      " |-- rating: string (nullable = true)\n",
      " |-- timestamp: string (nullable = true)\n",
      "\n"
     ]
    }
   ],
   "source": [
    "df_sample.printSchema()"
   ]
  },
  {
   "cell_type": "markdown",
   "metadata": {},
   "source": [
    "### 3.1 Table joint"
   ]
  },
  {
   "cell_type": "markdown",
   "metadata": {},
   "source": [
    "To get the rating table like above, first I need to join the user table and repo table. Since contribution list, watcher list and subscribtion list are nested list in the json table. After join, explode operation is necessary to manipulate."
   ]
  },
  {
   "cell_type": "code",
   "execution_count": null,
   "metadata": {
    "collapsed": true
   },
   "outputs": [],
   "source": [
    "#load all of the repos data, df1 is contribution list, df2 contains owner, stargazers and subscribers.\n",
    "df1 = spark.read.format(\"parquet\").option(\"header\", \"true\").load(\"all_repos/*.parquet\")\n",
    "df2 = spark.read.format(\"json\").option(\"header\", \"true\").load(\"repo/*.json\")\n",
    "df1.createOrReplaceTempView(\"repos1\")\n",
    "df2.createOrReplaceTempView(\"repos2\")"
   ]
  },
  {
   "cell_type": "markdown",
   "metadata": {},
   "source": [
    "#### code to join table"
   ]
  },
  {
   "cell_type": "code",
   "execution_count": 120,
   "metadata": {},
   "outputs": [
    {
     "name": "stdout",
     "output_type": "stream",
     "text": [
      "+---------+--------------------+\n",
      "|  repo_id|    contributor_list|\n",
      "+---------+--------------------+\n",
      "| 52453375|[VisionResearchBlog]|\n",
      "| 33048276|[tj, ggilder, mar...|\n",
      "| 89484400|[Vashnak, kasongo...|\n",
      "|114363116|[appcypher, xeqlo...|\n",
      "| 49871922|[milo, keithy, ma...|\n",
      "| 47617976|[botdetect-suppor...|\n",
      "|168845286|       [yanzhongxin]|\n",
      "|137354331|[cola9, MihaelBra...|\n",
      "| 36346737|[seonim-ryu, hg-c...|\n",
      "|105284769|[jackfranklin, da...|\n",
      "| 79986730|          [zacksiri]|\n",
      "| 23377500|[vmalloc, boazin,...|\n",
      "| 95911231|[azouaoui-med, we...|\n",
      "|135040218|           [Amirufc]|\n",
      "| 67251415|[lociii, MounirMe...|\n",
      "|170280071|            [zapkub]|\n",
      "| 40466469| [sparanoid, hjiang]|\n",
      "|  8251614|[mikebell, PJnes,...|\n",
      "| 43532887|[aoterodelaroza, ...|\n",
      "| 41369154|        [stephank16]|\n",
      "+---------+--------------------+\n",
      "only showing top 20 rows\n",
      "\n"
     ]
    }
   ],
   "source": [
    "df3=spark.sql(\"\"\"\n",
    "SELECT repo_id,contributor_list FROM repos\n",
    "\"\"\")\n",
    "df3.show()\n",
    "\n"
   ]
  },
  {
   "cell_type": "code",
   "execution_count": 89,
   "metadata": {},
   "outputs": [
    {
     "name": "stdout",
     "output_type": "stream",
     "text": [
      "+--------+------------------+\n",
      "| repo_id|  contri_user_name|\n",
      "+--------+------------------+\n",
      "|52453375|VisionResearchBlog|\n",
      "|33048276|                tj|\n",
      "|33048276|           ggilder|\n",
      "|33048276|         marcandre|\n",
      "|33048276|             benbc|\n",
      "|33048276|          fgalassi|\n",
      "|33048276|        JonathonMA|\n",
      "|33048276|        toolmantim|\n",
      "|33048276|    JosephPecoraro|\n",
      "|33048276|      mattbrictson|\n",
      "|33048276|               rmc|\n",
      "|33048276|           SkyTrix|\n",
      "|33048276|            gogiel|\n",
      "|33048276|          jrobeson|\n",
      "|33048276|        rohitpaulk|\n",
      "|33048276|            rrrene|\n",
      "|33048276|          fallwith|\n",
      "|33048276|       kethomassen|\n",
      "|33048276|              suan|\n",
      "|33048276|          andrewvc|\n",
      "+--------+------------------+\n",
      "only showing top 20 rows\n",
      "\n"
     ]
    }
   ],
   "source": [
    "df3=spark.sql(\"\"\"\n",
    "SELECT t1.* FROM users\n",
    "join\n",
    "(SELECT repo_id,explode(contributor_list) as contri_user_name FROM repos) as t1\n",
    "on contri_user_name = login\n",
    "\"\"\")\n",
    "df3.show()\n"
   ]
  },
  {
   "cell_type": "markdown",
   "metadata": {},
   "source": [
    "### 3.2 User preselection of contributors"
   ]
  },
  {
   "cell_type": "markdown",
   "metadata": {},
   "source": [
    "For the users who have little behavior data, we are going to drop them out. We only select the user who contributed, created, stared or subscibted more than 5 repos. It will improve the perfomance of the recommendation"
   ]
  },
  {
   "cell_type": "markdown",
   "metadata": {},
   "source": [
    "#### code to filter users (only by contributors here):"
   ]
  },
  {
   "cell_type": "code",
   "execution_count": 103,
   "metadata": {},
   "outputs": [
    {
     "name": "stdout",
     "output_type": "stream",
     "text": [
      "+--------------------+--------+\n",
      "|           user_name|count(1)|\n",
      "+--------------------+--------+\n",
      "|              jiahao|       8|\n",
      "|            cardosov|       6|\n",
      "|             pdubroy|       6|\n",
      "|               rthor|       6|\n",
      "|          dwightjack|      15|\n",
      "|          pabelanger|      25|\n",
      "|              Xuanwo|       8|\n",
      "|CyrilRoelandteNov...|       9|\n",
      "|              aboe76|       8|\n",
      "|              luisbg|       7|\n",
      "|            bjrmatos|      13|\n",
      "|      mikaelarguedas|      20|\n",
      "|        rspieldenner|       7|\n",
      "|            Matoking|      16|\n",
      "|             jparise|       9|\n",
      "|          DataTables|       7|\n",
      "|             sorensp|       6|\n",
      "|             sorpaas|       9|\n",
      "|           hharrison|      15|\n",
      "|          electrical|       9|\n",
      "+--------------------+--------+\n",
      "only showing top 20 rows\n",
      "\n"
     ]
    }
   ],
   "source": [
    "spark.sql(\"\"\"\n",
    "SELECT user_name, count(1) from\n",
    "(SELECT distinct repo_id,explode(contributor_list) as user_name FROM repos) as t1\n",
    "group by user_name\n",
    "having count(1)>5\n",
    "\"\"\").show()"
   ]
  },
  {
   "cell_type": "code",
   "execution_count": 119,
   "metadata": {},
   "outputs": [
    {
     "data": {
      "text/plain": [
       "<matplotlib.axes._subplots.AxesSubplot at 0x120273b38>"
      ]
     },
     "execution_count": 119,
     "metadata": {},
     "output_type": "execute_result"
    },
    {
     "data": {
      "image/png": "[encoded data removed]",
      "text/plain": [
       "<matplotlib.figure.Figure at 0x12039a080>"
      ]
     },
     "metadata": {},
     "output_type": "display_data"
    }
   ],
   "source": [
    "spark.sql(\"\"\"\n",
    "select bin,count(1) from\n",
    "(\n",
    "SELECT user_id, floor(count(1)/1) as bin from\n",
    "(SELECT distinct repo_id, stargazers as user_id,int(4) as rate from repos2)t1\n",
    "group by user_id\n",
    ")\n",
    "group by bin\n",
    "having bin >1\n",
    "and bin <17\n",
    "order by bin\n",
    "\"\"\").toPandas().plot(kind=\"bar\", x=\"bin\", y=\"count(1)\", figsize=(10,5))"
   ]
  },
  {
   "cell_type": "code",
   "execution_count": 115,
   "metadata": {},
   "outputs": [
    {
     "data": {
      "text/plain": [
       "<matplotlib.axes._subplots.AxesSubplot at 0x120101400>"
      ]
     },
     "execution_count": 115,
     "metadata": {},
     "output_type": "execute_result"
    },
    {
     "data": {
      "image/png": "[encoded data removed]",
      "text/plain": [
       "<matplotlib.figure.Figure at 0x11ffe76d8>"
      ]
     },
     "metadata": {},
     "output_type": "display_data"
    }
   ],
   "source": [
    "spark.sql(\"\"\"\n",
    "select bin,count(1) from\n",
    "(\n",
    "SELECT user_id, floor(count(1)/1) as bin from\n",
    "(SELECT distinct repo_id, subscribers as user_id,int(4) as rate from repos2)t1\n",
    "group by user_id\n",
    ")\n",
    "group by bin\n",
    "having bin >1\n",
    "and bin <17\n",
    "order by bin\n",
    "\"\"\").toPandas().plot(kind=\"bar\", x=\"bin\", y=\"count(1)\", figsize=(10,5))"
   ]
  },
  {
   "cell_type": "code",
   "execution_count": 116,
   "metadata": {
    "collapsed": true
   },
   "outputs": [],
   "source": [
    "pand=spark.sql(\"\"\" select bin,count(1) from\n",
    "(SELECT user_name, floor(count(1)/5) as bin from\n",
    "(SELECT distinct repo_id,explode(contributor_list) as user_name FROM repos) as t1\n",
    "group by user_name\n",
    ") t2\n",
    "group by bin\n",
    "having bin<15\n",
    "and bin >1\n",
    "order by bin\n",
    "\n",
    "\"\"\").toPandas()"
   ]
  },
  {
   "cell_type": "code",
   "execution_count": 117,
   "metadata": {},
   "outputs": [
    {
     "data": {
      "image/png": "[encoded data removed]",
      "text/plain": [
       "<matplotlib.figure.Figure at 0x120101b00>"
      ]
     },
     "metadata": {},
     "output_type": "display_data"
    }
   ],
   "source": [
    "import matplotlib.pyplot as plt\n",
    "pand.plot(kind=\"bar\", x=\"bin\", y=\"count(1)\", figsize=(10,5))\n",
    "plt.show()"
   ]
  },
  {
   "cell_type": "code",
   "execution_count": 118,
   "metadata": {},
   "outputs": [
    {
     "data": {
      "text/plain": [
       "<matplotlib.axes._subplots.AxesSubplot at 0x120268e48>"
      ]
     },
     "execution_count": 118,
     "metadata": {},
     "output_type": "execute_result"
    },
    {
     "data": {
      "image/png": "[encoded data removed]",
      "text/plain": [
       "<matplotlib.figure.Figure at 0x120279978>"
      ]
     },
     "metadata": {},
     "output_type": "display_data"
    }
   ],
   "source": [
    "spark.sql(\"\"\"\n",
    "select bin,count(1) from\n",
    "(\n",
    "SELECT user_id, floor(count(1)/1) as bin from\n",
    "(SELECT distinct repo_id, owner as user_id,int(4) as rate from repos2)t1\n",
    "group by user_id\n",
    ")\n",
    "group by bin\n",
    "having bin >0\n",
    "and bin <17\n",
    "order by bin\n",
    "\"\"\").toPandas().plot(kind=\"bar\", x=\"bin\", y=\"count(1)\", figsize=(10,5))"
   ]
  },
  {
   "cell_type": "markdown",
   "metadata": {},
   "source": [
    "### 3.3 Rating Formulation"
   ]
  },
  {
   "cell_type": "markdown",
   "metadata": {},
   "source": [
    "We need to formulate rating score based on our data. For each repo and user, we need to confirm their association. The rating score is calculated based on the schema we proposed above. A function of rating need to be created in this process and the running time should be long because of the number of records."
   ]
  },
  {
   "cell_type": "code",
   "execution_count": 121,
   "metadata": {},
   "outputs": [
    {
     "name": "stdout",
     "output_type": "stream",
     "text": [
      "+---------+----------------+----+\n",
      "|  repo_id|         user_id|rate|\n",
      "+---------+----------------+----+\n",
      "| 21818302|        SomeFire|   3|\n",
      "| 21633683|       saidobeid|   3|\n",
      "| 38204589|greenkeeper[bot]|   3|\n",
      "|156655568|          cnotin|   3|\n",
      "|  1280658|          kevmoo|   3|\n",
      "|   194858|       fbergroth|   3|\n",
      "| 37996233| bhavishyagopesh|   3|\n",
      "| 12393467|           msoos|   3|\n",
      "|127482608|        mcollina|   3|\n",
      "| 54207245|      matheuslao|   3|\n",
      "|127199868|        jonashao|   3|\n",
      "|127199868|         Vevlins|   3|\n",
      "| 32794055|           endiz|   3|\n",
      "| 78103207|    cdcharlebois|   3|\n",
      "| 74883347|          ondrap|   3|\n",
      "| 13994064|            vmax|   3|\n",
      "|112221016|          ocpmax|   3|\n",
      "| 60663791|        rockstar|   3|\n",
      "|  7178155|       kabentley|   3|\n",
      "|    10664|        litvinok|   3|\n",
      "+---------+----------------+----+\n",
      "only showing top 20 rows\n",
      "\n"
     ]
    }
   ],
   "source": [
    "spark.sql(\"\"\"\n",
    "SELECT distinct repo_id,explode(contributor_list) as user_id,int(3) as rate from repos1\n",
    "\"\"\").show()"
   ]
  },
  {
   "cell_type": "code",
   "execution_count": 123,
   "metadata": {
    "collapsed": true
   },
   "outputs": [],
   "source": [
    "# The function used to generate rating score based on the 4 levels behavior\n",
    "# contributors's rating is 3\n",
    "df_con=spark.sql(\"\"\"\n",
    "SELECT distinct repo_id,explode(contributor_list) as user_id,int(3) as rate from repos1\n",
    "\"\"\")\n",
    "# owner's rating is 4\n",
    "df_owner=spark.sql(\"\"\"\n",
    "SELECT distinct repo_id, owner as user_id,int(4) as rate from repos2\n",
    "\"\"\")\n",
    "# stargazer's rating is 1\n",
    "df_star=spark.sql(\"\"\"\n",
    "SELECT distinct repo_id, explode(stargazers) as user_id,int(1) as rate from repos2\n",
    "\"\"\")\n",
    "# stargazer's rating is 2\n",
    "df_sub=spark.sql(\"\"\"\n",
    "SELECT distinct repo_id, explode(subscribers) as user_id,int(2) as rate from repos2\n",
    "\"\"\")"
   ]
  },
  {
   "cell_type": "code",
   "execution_count": 128,
   "metadata": {},
   "outputs": [
    {
     "name": "stdout",
     "output_type": "stream",
     "text": [
      "+-------------+---------+----+\n",
      "|      user_id|  repo_id|rate|\n",
      "+-------------+---------+----+\n",
      "|            0|  1326806|   1|\n",
      "|            0|  1326806|   3|\n",
      "|       0----0|118226152|   3|\n",
      "|       0--key|  3028781|   1|\n",
      "|       0--key|  8357227|   1|\n",
      "|       0--key| 23971425|   1|\n",
      "|       0-0-0-| 44971752|   1|\n",
      "|      0-0-0-0|  7377936|   3|\n",
      "|0-0-0-0-0-0-0| 28904322|   1|\n",
      "|  0-0Flash0-0|  3431193|   1|\n",
      "|        0-1-0| 51716038|   1|\n",
      "|        0-1-0| 73579984|   1|\n",
      "|        0-1-0|107785146|   1|\n",
      "|        0-1-0|140457254|   1|\n",
      "|        0-10V|  2418744|   1|\n",
      "|      0-Arise|  5133949|   1|\n",
      "|    0-Captain|  2540368|   1|\n",
      "|          0-F| 15639771|   1|\n",
      "|          0-F| 37287172|   1|\n",
      "|          0-F| 42456996|   1|\n",
      "+-------------+---------+----+\n",
      "only showing top 20 rows\n",
      "\n"
     ]
    }
   ],
   "source": [
    "spark.sql(\"\"\"\n",
    "SELECT user_id, repo_id, rate from combine_list\n",
    "order by user_id,repo_id\n",
    "\"\"\").show()"
   ]
  },
  {
   "cell_type": "code",
   "execution_count": 125,
   "metadata": {
    "collapsed": true
   },
   "outputs": [],
   "source": [
    "df_new=df_owner.unionAll(df_con).unionAll(df_star).unionAll(df_sub)\n",
    "df_new.createOrReplaceTempView(\"combine_list\")\n",
    "# If one users have several behaviors in one repos, choose the highest rating as the score\n",
    "df_result=spark.sql(\"\"\"\n",
    "SELECT user_id, repo_id, max(rate) as rate from combine_list\n",
    "group by user_id, repo_id\n",
    "order by user_id,repo_id\n",
    "\"\"\")\n",
    "#df_result.write.parquet(\"rate_table.parquet\")"
   ]
  },
  {
   "cell_type": "markdown",
   "metadata": {},
   "source": [
    "### 3.4 Exploration & Selection"
   ]
  },
  {
   "cell_type": "code",
   "execution_count": 126,
   "metadata": {},
   "outputs": [
    {
     "name": "stdout",
     "output_type": "stream",
     "text": [
      "+-------------+---------+----+\n",
      "|      user_id|  repo_id|rate|\n",
      "+-------------+---------+----+\n",
      "|            0|  1326806|   3|\n",
      "|       0----0|118226152|   3|\n",
      "|       0--key|  3028781|   1|\n",
      "|       0--key|  8357227|   1|\n",
      "|       0--key| 23971425|   1|\n",
      "|       0-0-0-| 44971752|   1|\n",
      "|      0-0-0-0|  7377936|   3|\n",
      "|0-0-0-0-0-0-0| 28904322|   1|\n",
      "|  0-0Flash0-0|  3431193|   1|\n",
      "|        0-1-0| 51716038|   1|\n",
      "|        0-1-0| 73579984|   1|\n",
      "|        0-1-0|107785146|   1|\n",
      "|        0-1-0|140457254|   1|\n",
      "|        0-10V|  2418744|   1|\n",
      "|      0-Arise|  5133949|   1|\n",
      "|    0-Captain|  2540368|   1|\n",
      "|          0-F| 15639771|   1|\n",
      "|          0-F| 37287172|   1|\n",
      "|          0-F| 42456996|   1|\n",
      "|     0-Hacker|   908607|   2|\n",
      "+-------------+---------+----+\n",
      "only showing top 20 rows\n",
      "\n"
     ]
    }
   ],
   "source": [
    "df_result.show()"
   ]
  },
  {
   "cell_type": "markdown",
   "metadata": {},
   "source": [
    "Now we need to generate unique user_id using rank() function because user_id has to be integer instead of string."
   ]
  },
  {
   "cell_type": "code",
   "execution_count": 18,
   "metadata": {
    "collapsed": true
   },
   "outputs": [],
   "source": [
    "df_result.createOrReplaceTempView(\"rate_list\")\n",
    "df_result2=spark.sql(\"\"\"\n",
    "select b.user_id, rate_list.repo_id, rate_list.rate from rate_list\n",
    "left join\n",
    "(select distinct user_id as user, rank() over(order by user_id) as user_id\n",
    "from combine_list) as b\n",
    "on rate_list.user_id = b.user\n",
    "\"\"\")"
   ]
  },
  {
   "cell_type": "code",
   "execution_count": 19,
   "metadata": {},
   "outputs": [
    {
     "name": "stdout",
     "output_type": "stream",
     "text": [
      "+-------+---------+----+\n",
      "|user_id|  repo_id|rate|\n",
      "+-------+---------+----+\n",
      "|    447| 45512989|   2|\n",
      "|    447| 33486016|   1|\n",
      "|    773| 74221944|   2|\n",
      "|   1532| 63188650|   1|\n",
      "|   1532| 21872392|   1|\n",
      "|   2611| 33486016|   1|\n",
      "|   2632|128658421|   1|\n",
      "|   2632|105306631|   1|\n",
      "|   2632|  2006876|   1|\n",
      "|   2632|  5239185|   1|\n",
      "|   2632| 24878875|   1|\n",
      "|   2632| 48610662|   1|\n",
      "|   2632| 47716038|   1|\n",
      "|   2632|  2476162|   1|\n",
      "|   2632| 44416666|   1|\n",
      "|   2632| 76221943|   1|\n",
      "|   2632| 44296596|   1|\n",
      "|   2632|161109499|   1|\n",
      "|   2632| 35077713|   1|\n",
      "|   2632| 12413949|   1|\n",
      "+-------+---------+----+\n",
      "only showing top 20 rows\n",
      "\n"
     ]
    }
   ],
   "source": [
    "df_result2.show()"
   ]
  },
  {
   "cell_type": "markdown",
   "metadata": {},
   "source": [
    "To make sure our model has a good ability of prediction, we need to filter the user whose number of rating is less than 5. After filting, we can see the frequency distribution."
   ]
  },
  {
   "cell_type": "code",
   "execution_count": 23,
   "metadata": {},
   "outputs": [
    {
     "data": {
      "image/png": "[encoded data removed]",
      "text/plain": [
       "<matplotlib.figure.Figure at 0x10d089588>"
      ]
     },
     "metadata": {},
     "output_type": "display_data"
    }
   ],
   "source": [
    "import matplotlib.pyplot as plt\n",
    "df_result2.createOrReplaceTempView(\"rate_list2\")\n",
    "# select the users whose number of rating is greater than 5\n",
    "df_result3=spark.sql(\"\"\"\n",
    "select user_id, count(1) as frequency from rate_list2\n",
    "group by user_id\n",
    "having frequency>5 \n",
    "\"\"\")\n",
    "\n",
    "spark.sql(\"\"\"\n",
    "select ceil(frequency/5) as bin, count(1)\n",
    "from\n",
    "(select user_id, count(1) as frequency from rate_list2\n",
    "group by user_id\n",
    "having frequency>5 \n",
    ") b\n",
    "group by ceil(frequency/5)\n",
    "having bin<10\n",
    "order by bin\n",
    "\"\"\").toPandas().plot(kind=\"bar\", x=\"bin\", y=\"count(1)\", figsize=(10,5))\n",
    "plt.show()"
   ]
  },
  {
   "cell_type": "markdown",
   "metadata": {},
   "source": [
    "Last graph showes that, 140000 users get involved with 5 to 10 repos. "
   ]
  },
  {
   "cell_type": "code",
   "execution_count": 35,
   "metadata": {
    "collapsed": true
   },
   "outputs": [],
   "source": [
    "df_result3.createOrReplaceTempView(\"rate_list3\")\n",
    "#select the users whose number of rating is greater than 5\n",
    "df_result4=spark.sql(\"\"\"\n",
    "select rate_list2.user_id, rate_list2.repo_id,rate_list2.rate \n",
    "from rate_list2, rate_list3\n",
    "where rate_list2.user_id = rate_list3.user_id\n",
    "\"\"\")"
   ]
  },
  {
   "cell_type": "code",
   "execution_count": 32,
   "metadata": {},
   "outputs": [
    {
     "name": "stdout",
     "output_type": "stream",
     "text": [
      "+-------+---------+----+\n",
      "|user_id|  repo_id|rate|\n",
      "+-------+---------+----+\n",
      "|   8592| 15019962|   1|\n",
      "|   8592|  9340574|   1|\n",
      "|   8592| 25354393|   1|\n",
      "|   8592| 21872392|   2|\n",
      "|   8592|  9405122|   1|\n",
      "|   8592| 80041090|   1|\n",
      "|   8592|  8859474|   1|\n",
      "|   8592| 35215245|   1|\n",
      "|   8592| 70261282|   1|\n",
      "|   8592| 14735429|   1|\n",
      "|   8592| 22417801|   1|\n",
      "|   8592| 22585805|   1|\n",
      "|   8592| 57147349|   1|\n",
      "|   8592| 42933477|   2|\n",
      "|   8592| 42556260|   1|\n",
      "|   8592|121881938|   1|\n",
      "|   8592| 51148780|   1|\n",
      "|   8592| 34364279|   1|\n",
      "|  10817|  4387547|   1|\n",
      "|  10817| 16019737|   1|\n",
      "+-------+---------+----+\n",
      "only showing top 20 rows\n",
      "\n"
     ]
    }
   ],
   "source": [
    "df_result4.show()"
   ]
  },
  {
   "cell_type": "markdown",
   "metadata": {},
   "source": [
    "Now let's look at the distribution of rating score. It is true that most of users will star repositories because it's not time consuming. However, contribition and creation of repositories are time consuming. Therefore, the distribution makes sense. "
   ]
  },
  {
   "cell_type": "code",
   "execution_count": 38,
   "metadata": {},
   "outputs": [
    {
     "data": {
      "text/html": [
       "<div>\n",
       "<style scoped>\n",
       "    .dataframe tbody tr th:only-of-type {\n",
       "        vertical-align: middle;\n",
       "    }\n",
       "\n",
       "    .dataframe tbody tr th {\n",
       "        vertical-align: top;\n",
       "    }\n",
       "\n",
       "    .dataframe thead th {\n",
       "        text-align: right;\n",
       "    }\n",
       "</style>\n",
       "<table border=\"1\" class=\"dataframe\">\n",
       "  <thead>\n",
       "    <tr style=\"text-align: right;\">\n",
       "      <th></th>\n",
       "      <th>rate</th>\n",
       "      <th>count(1)</th>\n",
       "    </tr>\n",
       "  </thead>\n",
       "  <tbody>\n",
       "    <tr>\n",
       "      <th>0</th>\n",
       "      <td>1</td>\n",
       "      <td>5339863</td>\n",
       "    </tr>\n",
       "    <tr>\n",
       "      <th>1</th>\n",
       "      <td>2</td>\n",
       "      <td>265159</td>\n",
       "    </tr>\n",
       "    <tr>\n",
       "      <th>2</th>\n",
       "      <td>3</td>\n",
       "      <td>186322</td>\n",
       "    </tr>\n",
       "    <tr>\n",
       "      <th>3</th>\n",
       "      <td>4</td>\n",
       "      <td>10041</td>\n",
       "    </tr>\n",
       "  </tbody>\n",
       "</table>\n",
       "</div>"
      ],
      "text/plain": [
       "   rate  count(1)\n",
       "0     1   5339863\n",
       "1     2    265159\n",
       "2     3    186322\n",
       "3     4     10041"
      ]
     },
     "execution_count": 38,
     "metadata": {},
     "output_type": "execute_result"
    }
   ],
   "source": [
    "df_result4.createOrReplaceTempView(\"rate_list4\")\n",
    "spark.sql(\"\"\"\n",
    "select rate, count(1)\n",
    "from\n",
    "rate_list4\n",
    "group by rate\n",
    "order by rate\n",
    "\"\"\").toPandas()"
   ]
  },
  {
   "cell_type": "code",
   "execution_count": 36,
   "metadata": {},
   "outputs": [
    {
     "data": {
      "image/png": "[encoded data removed]",
      "text/plain": [
       "<matplotlib.figure.Figure at 0x11e427550>"
      ]
     },
     "metadata": {},
     "output_type": "display_data"
    }
   ],
   "source": [
    "df_result4.createOrReplaceTempView(\"rate_list4\")\n",
    "spark.sql(\"\"\"\n",
    "select rate, count(1)\n",
    "from\n",
    "rate_list4\n",
    "group by rate\n",
    "\"\"\").toPandas().plot(kind=\"bar\", x=\"rate\", y=\"count(1)\", figsize=(10,5))\n",
    "plt.show()"
   ]
  },
  {
   "cell_type": "markdown",
   "metadata": {},
   "source": [
    "## 4. Modelling"
   ]
  },
  {
   "cell_type": "markdown",
   "metadata": {},
   "source": [
    "To reproduce the paper, I use the sample data of MovieLen to train the model. The data is clean and formated. After preprocessing of github data, we can replace the sample data by github data."
   ]
  },
  {
   "cell_type": "code",
   "execution_count": 39,
   "metadata": {
    "collapsed": true
   },
   "outputs": [],
   "source": [
    "from pyspark.sql import *\n",
    "import pyspark.sql.functions as F\n",
    "from pyspark.mllib.recommendation import ALS, MatrixFactorizationModel, Rating\n",
    "from pyspark.ml.evaluation import RegressionEvaluator\n",
    "from pyspark.ml.recommendation import ALS\n",
    "from pyspark.sql import Row"
   ]
  },
  {
   "cell_type": "markdown",
   "metadata": {},
   "source": [
    "### 4.1 Splitting"
   ]
  },
  {
   "cell_type": "code",
   "execution_count": 40,
   "metadata": {},
   "outputs": [
    {
     "name": "stdout",
     "output_type": "stream",
     "text": [
      "Training Dataset Count: 4641271\n",
      "Test Dataset Count: 1160114\n"
     ]
    }
   ],
   "source": [
    "ratings=df_result4\n",
    "(training, test) = ratings.randomSplit([0.8, 0.2])\n",
    "print(\"Training Dataset Count: \" + str(training.count()))\n",
    "print(\"Test Dataset Count: \" + str(test.count()))"
   ]
  },
  {
   "cell_type": "code",
   "execution_count": 41,
   "metadata": {},
   "outputs": [
    {
     "name": "stdout",
     "output_type": "stream",
     "text": [
      "+----+-------+\n",
      "|rate|  count|\n",
      "+----+-------+\n",
      "|   1|4272238|\n",
      "|   2| 211989|\n",
      "|   3| 148982|\n",
      "|   4|   8062|\n",
      "+----+-------+\n",
      "\n"
     ]
    }
   ],
   "source": [
    "training.groupBy(['rate']).count().orderBy(\"rate\").show()"
   ]
  },
  {
   "cell_type": "code",
   "execution_count": 42,
   "metadata": {},
   "outputs": [
    {
     "name": "stdout",
     "output_type": "stream",
     "text": [
      "+----+-------+\n",
      "|rate|  count|\n",
      "+----+-------+\n",
      "|   1|1067625|\n",
      "|   2|  53170|\n",
      "|   3|  37340|\n",
      "|   4|   1979|\n",
      "+----+-------+\n",
      "\n"
     ]
    }
   ],
   "source": [
    "test.groupBy(['rate']).count().orderBy(\"rate\").show()"
   ]
  },
  {
   "cell_type": "markdown",
   "metadata": {},
   "source": [
    "### 4.2 Training and prediction"
   ]
  },
  {
   "cell_type": "code",
   "execution_count": 43,
   "metadata": {
    "collapsed": true
   },
   "outputs": [],
   "source": [
    "\n",
    "# Build the recommendation model using ALS on the training data\n",
    "# Note we set cold start strategy to 'drop' to ensure we don't get NaN evaluation metrics\n",
    "als = ALS(maxIter=10, regParam=0.01, userCol=\"user_id\", itemCol=\"repo_id\", ratingCol=\"rate\",\n",
    "          coldStartStrategy=\"drop\")\n",
    "model = als.fit(training)\n",
    "\n",
    "# Evaluate the model by computing the RMSE on the test data\n",
    "predictions = model.transform(test)\n"
   ]
  },
  {
   "cell_type": "markdown",
   "metadata": {},
   "source": [
    "### 4.3 Eveluation"
   ]
  },
  {
   "cell_type": "code",
   "execution_count": 44,
   "metadata": {},
   "outputs": [
    {
     "name": "stdout",
     "output_type": "stream",
     "text": [
      "Root-mean-square error = 0.39872407492158707\n"
     ]
    }
   ],
   "source": [
    "evaluator = RegressionEvaluator(metricName=\"rmse\", labelCol=\"rate\",\n",
    "                                predictionCol=\"prediction\")\n",
    "rmse = evaluator.evaluate(predictions)\n",
    "print(\"Root-mean-square error = \" + str(rmse))\n",
    "\n",
    "# Generate top 10 movie recommendations for each user\n",
    "userRecs = model.recommendForAllUsers(10)\n",
    "# Generate top 10 user recommendations for each repository \n",
    "movieRecs = model.recommendForAllItems(10)"
   ]
  },
  {
   "cell_type": "code",
   "execution_count": 53,
   "metadata": {},
   "outputs": [
    {
     "name": "stdout",
     "output_type": "stream",
     "text": [
      "Root-mean-square error = 0.39872407492158707\n"
     ]
    }
   ],
   "source": [
    "evaluator = RegressionEvaluator(metricName=\"rmse\", labelCol=\"rate\",\n",
    "                                predictionCol=\"prediction\")\n",
    "rmse = evaluator.evaluate(predictions)\n",
    "print(\"Root-mean-square error = \" + str(rmse))\n",
    "\n",
    "# Generate top 10 movie recommendations for each user\n",
    "userRecs = model.recommendForAllUsers(10)\n",
    "# Generate top 10 user recommendations for each movie\n",
    "repoRecs = model.recommendForAllItems(10)"
   ]
  },
  {
   "cell_type": "code",
   "execution_count": 129,
   "metadata": {},
   "outputs": [
    {
     "name": "stdout",
     "output_type": "stream",
     "text": [
      "+-------+-------+----+----------+\n",
      "|user_id|repo_id|rate|prediction|\n",
      "+-------+-------+----+----------+\n",
      "|5421486|1231710|   1|0.12103822|\n",
      "|3792652|1231710|   3| 1.0169585|\n",
      "|3152364|1231710|   1|0.38868317|\n",
      "|3135495|1231710|   1|0.17406435|\n",
      "|3913984|1231710|   3|0.79880774|\n",
      "|3570666|3837696|   3| 1.4067433|\n",
      "|4281865|3837696|   3|0.91240156|\n",
      "|4522823|3837696|   2|0.68233126|\n",
      "|7018843|3837696|   2| 1.2757554|\n",
      "|6064102|3837696|   1| 0.5678805|\n",
      "+-------+-------+----+----------+\n",
      "only showing top 10 rows\n",
      "\n"
     ]
    }
   ],
   "source": [
    "predictions.show(10)"
   ]
  },
  {
   "cell_type": "code",
   "execution_count": 132,
   "metadata": {},
   "outputs": [
    {
     "name": "stdout",
     "output_type": "stream",
     "text": [
      "+-------+--------------------+\n",
      "|repo_id|     recommendations|\n",
      "+-------+--------------------+\n",
      "|1231710|[[1104723, 6.2099...|\n",
      "|3837696|[[8132786, 8.3066...|\n",
      "|4189105|[[3822112, 3.8015...|\n",
      "|5967893|[[1914405, 4.7893...|\n",
      "|6116266|[[1624020, 5.7906...|\n",
      "|6632698|[[8378708, 10.636...|\n",
      "|7079500|[[6225013, 5.5033...|\n",
      "|7533238|[[4879030, 5.5826...|\n",
      "|7611307|[[5716644, 7.5900...|\n",
      "|8003417|[[5668813, 6.2299...|\n",
      "+-------+--------------------+\n",
      "only showing top 10 rows\n",
      "\n"
     ]
    }
   ],
   "source": [
    "movieRecs.show(10)"
   ]
  },
  {
   "cell_type": "code",
   "execution_count": 130,
   "metadata": {},
   "outputs": [
    {
     "name": "stdout",
     "output_type": "stream",
     "text": [
      "+-------+--------------------+\n",
      "|user_id|     recommendations|\n",
      "+-------+--------------------+\n",
      "|   8592|[[110691676, 5.53...|\n",
      "|  10817|[[48311711, 3.820...|\n",
      "|  28088|[[26092173, 3.869...|\n",
      "|  29194|[[171046539, 3.76...|\n",
      "|  43302|[[101424202, 3.62...|\n",
      "|  44358|[[127570975, 3.81...|\n",
      "|  53691|[[52882030, 3.806...|\n",
      "|  57039|[[52882030, 3.690...|\n",
      "|  67376|[[26092173, 3.970...|\n",
      "|  70097|[[48311711, 3.778...|\n",
      "+-------+--------------------+\n",
      "only showing top 10 rows\n",
      "\n"
     ]
    }
   ],
   "source": [
    "userRecs.show(10)"
   ]
  },
  {
   "cell_type": "markdown",
   "metadata": {},
   "source": [
    "### 4.4 Hyper parameter tuning"
   ]
  },
  {
   "cell_type": "markdown",
   "metadata": {},
   "source": [
    "To further improve root mean square error of our model, we need to do grid search for hyper parameter tuning. There are three parameters to tune: rank, max interation and regularization parameters. "
   ]
  },
  {
   "cell_type": "code",
   "execution_count": 48,
   "metadata": {
    "collapsed": true
   },
   "outputs": [],
   "source": [
    "from pyspark.ml import Pipeline\n",
    "from pyspark.ml.classification import LogisticRegression\n",
    "from pyspark.ml.evaluation import BinaryClassificationEvaluator\n",
    "from pyspark.ml.feature import HashingTF, Tokenizer\n",
    "from pyspark.ml.tuning import CrossValidator, ParamGridBuilder"
   ]
  },
  {
   "cell_type": "code",
   "execution_count": 63,
   "metadata": {},
   "outputs": [
    {
     "data": {
      "text/plain": [
       "DataFrame[user_id: int, repo_id: bigint, rate: int]"
      ]
     },
     "execution_count": 63,
     "metadata": {},
     "output_type": "execute_result"
    }
   ],
   "source": [
    "training.cache()"
   ]
  },
  {
   "cell_type": "code",
   "execution_count": 62,
   "metadata": {
    "collapsed": true
   },
   "outputs": [],
   "source": [
    "training2=training.head()"
   ]
  },
  {
   "cell_type": "code",
   "execution_count": 66,
   "metadata": {},
   "outputs": [
    {
     "name": "stdout",
     "output_type": "stream",
     "text": [
      "Root-mean-square error = 0.39872407492158707\n"
     ]
    }
   ],
   "source": [
    "# We now treat the Pipeline as an Estimator, wrapping it in a CrossValidator instance.\n",
    "# This will allow us to jointly choose parameters for all Pipeline stages.\n",
    "# A CrossValidator requires an Estimator, a set of Estimator ParamMaps, and an Evaluator.\n",
    "# We use a ParamGridBuilder to construct a grid of parameters to search over.\n",
    "# With 3 values for hashingTF.numFeatures and 2 values for lr.regParam,\n",
    "# this grid will have 3 x 2 = 6 parameter settings for CrossValidator to choose from.\n",
    "paramGrid = ParamGridBuilder() \\\n",
    "    .addGrid(als.regParam, [0.1,0.01]) \\\n",
    "    .build()\n",
    "\n",
    "crossval = CrossValidator(estimator=als,\n",
    "                          estimatorParamMaps=paramGrid,\n",
    "                          evaluator=evaluator,\n",
    "                          numFolds=2)  # use 3+ folds in practice\n",
    "\n",
    "# Run cross-validation, and choose the best set of parameters.\n",
    "cvModel = crossval.fit(training)\n",
    "\n",
    "# Make predictions on test documents. cvModel uses the best model found (lrModel).\n",
    "prediction = cvModel.transform(test)\n",
    "rmse = evaluator.evaluate(predictions)\n",
    "print(\"Root-mean-square error = \" + str(rmse))"
   ]
  },
  {
   "cell_type": "code",
   "execution_count": 69,
   "metadata": {},
   "outputs": [
    {
     "name": "stdout",
     "output_type": "stream",
     "text": [
      "<zip object at 0x11f13d3c8>\n"
     ]
    }
   ],
   "source": []
  },
  {
   "cell_type": "code",
   "execution_count": 72,
   "metadata": {},
   "outputs": [
    {
     "name": "stdout",
     "output_type": "stream",
     "text": [
      "0.0005\n",
      "[0.0005, 1.1939378848150353]\n",
      "0.01\n",
      "[0.01, 0.39872407492158707]\n",
      "0.05\n",
      "[0.05, 0.31722828461373404]\n",
      "0.1\n",
      "[0.1, 0.3179798268479986]\n",
      "0.5\n",
      "[0.5, 0.5791195622550463]\n",
      "1\n",
      "[1, 1.1237612560442087]\n"
     ]
    }
   ],
   "source": [
    "# Build the recommendation model using ALS on the training data\n",
    "# Note we set cold start strategy to 'drop' to ensure we don't get NaN evaluation metrics\n",
    "result=[]\n",
    "for reg in [0.0005,0.01,0.05,0.1,0.5,1]:\n",
    "    print(reg)\n",
    "    als = ALS(maxIter=10, regParam=reg, userCol=\"user_id\", itemCol=\"repo_id\", ratingCol=\"rate\",\n",
    "              coldStartStrategy=\"drop\")\n",
    "    model = als.fit(training)\n",
    "\n",
    "    # Evaluate the model by computing the RMSE on the test data\n",
    "    predictions = model.transform(validate)\n",
    "    evaluator = RegressionEvaluator(metricName=\"rmse\", labelCol=\"rate\",\n",
    "                                    predictionCol=\"prediction\")\n",
    "    rmse = evaluator.evaluate(predictions)\n",
    "    result.append([reg,rmse])\n",
    "    print([reg,rmse])"
   ]
  },
  {
   "cell_type": "code",
   "execution_count": 131,
   "metadata": {},
   "outputs": [
    {
     "data": {
      "text/html": [
       "<div>\n",
       "<style scoped>\n",
       "    .dataframe tbody tr th:only-of-type {\n",
       "        vertical-align: middle;\n",
       "    }\n",
       "\n",
       "    .dataframe tbody tr th {\n",
       "        vertical-align: top;\n",
       "    }\n",
       "\n",
       "    .dataframe thead th {\n",
       "        text-align: right;\n",
       "    }\n",
       "</style>\n",
       "<table border=\"1\" class=\"dataframe\">\n",
       "  <thead>\n",
       "    <tr style=\"text-align: right;\">\n",
       "      <th></th>\n",
       "      <th>reg</th>\n",
       "      <th>rmse</th>\n",
       "    </tr>\n",
       "  </thead>\n",
       "  <tbody>\n",
       "    <tr>\n",
       "      <th>0</th>\n",
       "      <td>0.0005</td>\n",
       "      <td>1.193938</td>\n",
       "    </tr>\n",
       "    <tr>\n",
       "      <th>1</th>\n",
       "      <td>0.0100</td>\n",
       "      <td>0.398724</td>\n",
       "    </tr>\n",
       "    <tr>\n",
       "      <th>2</th>\n",
       "      <td>0.0500</td>\n",
       "      <td>0.317228</td>\n",
       "    </tr>\n",
       "    <tr>\n",
       "      <th>3</th>\n",
       "      <td>0.1000</td>\n",
       "      <td>0.317980</td>\n",
       "    </tr>\n",
       "    <tr>\n",
       "      <th>4</th>\n",
       "      <td>0.5000</td>\n",
       "      <td>0.579120</td>\n",
       "    </tr>\n",
       "    <tr>\n",
       "      <th>5</th>\n",
       "      <td>1.0000</td>\n",
       "      <td>1.123761</td>\n",
       "    </tr>\n",
       "  </tbody>\n",
       "</table>\n",
       "</div>"
      ],
      "text/plain": [
       "      reg      rmse\n",
       "0  0.0005  1.193938\n",
       "1  0.0100  0.398724\n",
       "2  0.0500  0.317228\n",
       "3  0.1000  0.317980\n",
       "4  0.5000  0.579120\n",
       "5  1.0000  1.123761"
      ]
     },
     "execution_count": 131,
     "metadata": {},
     "output_type": "execute_result"
    }
   ],
   "source": [
    "pd.DataFrame(result,columns=[\"reg\",\"rmse\"])"
   ]
  },
  {
   "cell_type": "code",
   "execution_count": 84,
   "metadata": {},
   "outputs": [
    {
     "data": {
      "text/plain": [
       "<matplotlib.axes._subplots.AxesSubplot at 0x11f0ff208>"
      ]
     },
     "execution_count": 84,
     "metadata": {},
     "output_type": "execute_result"
    },
    {
     "data": {
      "image/png": "[encoded data removed]",
      "text/plain": [
       "<matplotlib.figure.Figure at 0x11f4c2470>"
      ]
     },
     "metadata": {},
     "output_type": "display_data"
    }
   ],
   "source": [
    "import pandas as pd\n",
    "pd.DataFrame(result,columns=[\"reg\",\"rmse\"]).plot(x=\"reg\",y=\"rmse\")"
   ]
  },
  {
   "cell_type": "markdown",
   "metadata": {},
   "source": [
    "# 5. Summary"
   ]
  },
  {
   "cell_type": "markdown",
   "metadata": {},
   "source": [
    "In this work, I developed a repository  recommender system using Apache Spark and its ALS algorithm. The data is collected from GitHub API and a series of data preprocessing is implemented to convert the behaviors of users to repos into ratings, which can be applied in recommendation engine. In addition, preselection make sure the model aviod the problem of cold start. RMSE is used as evaluation matrix and hyperparameter tuning is implemented to improve the performance. The results showed a decent root mean square error (0.3173) as an output of the recommender model.\n",
    "Further study is also required to improve the model. For example, we can tune the hyperparameter of ranks to get the optimum perameter[5]. Also, we may consider how to recommende the repository to the new users who have little historic data. \n"
   ]
  },
  {
   "cell_type": "markdown",
   "metadata": {},
   "source": [
    "Further study is also required to improve the model. For example, we can tune the hyperparameter of ranks to get the optimum perameter. Also, we may consider how to recommende the repository to the new users who have little historic data. "
   ]
  }
 ],
 "metadata": {
  "kernelspec": {
   "display_name": "Python 3",
   "language": "python",
   "name": "python3"
  },
  "language_info": {
   "codemirror_mode": {
    "name": "ipython",
    "version": 3
   },
   "file_extension": ".py",
   "mimetype": "text/x-python",
   "name": "python",
   "nbconvert_exporter": "python",
   "pygments_lexer": "ipython3",
   "version": "3.6.8"
  }
 },
 "nbformat": 4,
 "nbformat_minor": 2
}
